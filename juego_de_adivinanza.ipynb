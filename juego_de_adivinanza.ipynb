{
  "nbformat": 4,
  "nbformat_minor": 0,
  "metadata": {
    "colab": {
      "provenance": [],
      "authorship_tag": "ABX9TyMHAoNAKMqJKXP5l1w9Cl0d",
      "include_colab_link": true
    },
    "kernelspec": {
      "name": "python3",
      "display_name": "Python 3"
    },
    "language_info": {
      "name": "python"
    }
  },
  "cells": [
    {
      "cell_type": "markdown",
      "metadata": {
        "id": "view-in-github",
        "colab_type": "text"
      },
      "source": [
        "<a href=\"https://colab.research.google.com/github/ahcamachod/2006-python-comenzando-con-el-lenguaje/blob/aula-4/juego_de_adivinanza.ipynb\" target=\"_parent\"><img src=\"https://colab.research.google.com/assets/colab-badge.svg\" alt=\"Open In Colab\"/></a>"
      ]
    },
    {
      "cell_type": "code",
      "execution_count": null,
      "metadata": {
        "id": "iPAAjJ-q2fJK"
      },
      "outputs": [],
      "source": [
        "print(\"**********************\")\n",
        "print(\"  Adivina el numero\")\n",
        "print(\"**********************\")\n",
        "\n",
        "numero_secreto = 55\n",
        "entrada_str = input(\"Digita un número: \")\n",
        "entrada = int(entrada_str)\n",
        "print(\"El número que digitaste: \",entrada)\n",
        "\n",
        "acertou = entrada == numero_secreto\n",
        "mayor = entrada > numero_secreto\n",
        "menor = entrada < numero_secreto\n",
        "\n",
        "if (acerto):\n",
        "  print(\"Has acertado el número!\")\n",
        "else:\n",
        "  if (mayor):\n",
        "    print(\"El número no corresponde! El número que ingresaste es mayor.\")\n",
        "  elif (menor):\n",
        "    print(\"El número no corresponde! El número que ingresaste es menor.\")\n",
        "    \n",
        "print(\"El juego ha concluído!\")"
      ]
    }
  ]
}