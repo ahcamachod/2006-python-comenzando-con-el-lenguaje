{
  "nbformat": 4,
  "nbformat_minor": 0,
  "metadata": {
    "colab": {
      "provenance": [],
      "authorship_tag": "ABX9TyP/5tNtuskByRWi8dRmczMJ",
      "include_colab_link": true
    },
    "kernelspec": {
      "name": "python3",
      "display_name": "Python 3"
    },
    "language_info": {
      "name": "python"
    }
  },
  "cells": [
    {
      "cell_type": "markdown",
      "metadata": {
        "id": "view-in-github",
        "colab_type": "text"
      },
      "source": [
        "<a href=\"https://colab.research.google.com/github/ahcamachod/2006-python-comenzando-con-el-lenguaje/blob/aula-3/juego_de_adivinanza.ipynb\" target=\"_parent\"><img src=\"https://colab.research.google.com/assets/colab-badge.svg\" alt=\"Open In Colab\"/></a>"
      ]
    },
    {
      "cell_type": "code",
      "execution_count": null,
      "metadata": {
        "id": "iPAAjJ-q2fJK"
      },
      "outputs": [],
      "source": [
        "print(\"**********************\")\n",
        "print(\"  Adivina el numero\")\n",
        "print(\"**********************\")\n",
        "\n",
        "numero_secreto = 55\n",
        "entrada_str = input(\"Digita un número: \")\n",
        "entrada = int(entrada_str)\n",
        "print(\"El número que digitaste: \",entrada)\n",
        "\n",
        "if (numero_secreto == entrada):\n",
        "  print(\"¡Acertaste!\")\n",
        "else:\n",
        "  print(\"El número no corresponde.\")\n",
        "\n",
        "print(\"El juego ha concluído!\")"
      ]
    }
  ]
}